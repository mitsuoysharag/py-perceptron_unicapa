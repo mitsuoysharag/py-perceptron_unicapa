{
  "nbformat": 4,
  "nbformat_minor": 0,
  "metadata": {
    "colab": {
      "name": "Perceptron_Unicapa.ipynb",
      "version": "0.3.2",
      "provenance": [],
      "collapsed_sections": []
    },
    "kernelspec": {
      "name": "python3",
      "display_name": "Python 3"
    }
  },
  "cells": [
    {
      "cell_type": "code",
      "metadata": {
        "id": "Dkns1tuh1mMf",
        "colab_type": "code",
        "colab": {}
      },
      "source": [
        "import numpy as np"
      ],
      "execution_count": 0,
      "outputs": []
    },
    {
      "cell_type": "code",
      "metadata": {
        "id": "yMwks0_41c9H",
        "colab_type": "code",
        "outputId": "01082b26-82c0-4e68-b0a8-021b8dccce8b",
        "colab": {
          "base_uri": "https://localhost:8080/",
          "height": 87
        }
      },
      "source": [
        "X = np.array([\n",
        "    [0, 0],\n",
        "    [0, 1],\n",
        "    [1, 0],\n",
        "    [1, 1]\n",
        "])\n",
        "\n",
        "Y = [[1, 0], [0, 1], [0, 1], [0, 1]]\n",
        "\n",
        "# Model\n",
        "W = np.zeros([len(Y[0]), len(X[0])])\n",
        "W0 = np.zeros(len(Y[0]))\n",
        "\n",
        "#Training\n",
        "lr = 0.1\n",
        "n_epochs = 20\n",
        "\n",
        "def output(x):\n",
        "  u = np.dot(x, W.T) - W0\n",
        "  y = np.piecewise(u, [u<0.0, u>=0.0], [0, 1])\n",
        "  return y\n",
        "\n",
        "for _ in range(n_epochs):\n",
        "  for i in range(4):\n",
        "    y = output(X[i])\n",
        "    err = Y[i] - y\n",
        "    \n",
        "    W += lr*np.array([x*err for x in X[i]]).T\n",
        "    W0 += lr*err*-1\n",
        "    \n",
        "print(output([0, 0]))\n",
        "print(output([0, 1]))\n",
        "print(output([1, 0]))\n",
        "print(output([1, 1]))"
      ],
      "execution_count": 0,
      "outputs": [
        {
          "output_type": "stream",
          "text": [
            "[1. 0.]\n",
            "[0. 1.]\n",
            "[0. 1.]\n",
            "[0. 1.]\n"
          ],
          "name": "stdout"
        }
      ]
    }
  ]
}